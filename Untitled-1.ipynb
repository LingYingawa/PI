{
 "cells": [
  {
   "cell_type": "code",
   "execution_count": 23,
   "metadata": {},
   "outputs": [
    {
     "name": "stdout",
     "output_type": "stream",
     "text": [
      "         name     version\n",
      "0  Everything  1.4.1.1024\n"
     ]
    }
   ],
   "source": [
    "import pandas as pd\n",
    "programs_lists = pd.read_csv(\"csvs\\list.csv\")\n",
    "line_count = len(programs_lists)\n",
    "installed_list = pd.read_csv(\".\\csvs\\installed.csv\")\n",
    "installed_list = pd.DataFrame(installed_list)\n",
    "print(installed_list[installed_list[\"name\"] == \"Everything\"])#.index.tolist()[0])"
   ]
  }
 ],
 "metadata": {
  "kernelspec": {
   "display_name": "Python 3",
   "language": "python",
   "name": "python3"
  },
  "language_info": {
   "codemirror_mode": {
    "name": "ipython",
    "version": 3
   },
   "file_extension": ".py",
   "mimetype": "text/x-python",
   "name": "python",
   "nbconvert_exporter": "python",
   "pygments_lexer": "ipython3",
   "version": "3.11.5"
  },
  "orig_nbformat": 4
 },
 "nbformat": 4,
 "nbformat_minor": 2
}
